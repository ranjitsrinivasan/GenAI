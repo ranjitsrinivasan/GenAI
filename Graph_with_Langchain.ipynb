{
  "cells": [
    {
      "cell_type": "code",
      "execution_count": null,
      "metadata": {
        "id": "VQlkomgpEvgt"
      },
      "outputs": [],
      "source": [
        "!pip install --upgrade --quiet langchain langchain-community langchain-groq neo4j"
      ]
    },
    {
      "cell_type": "code",
      "execution_count": 3,
      "metadata": {
        "id": "v6q3Z6QJF3Vm"
      },
      "outputs": [],
      "source": [
        "NEO4J_URI=\"neo4j+s://7bf1d910.databarsses.neo4j.io\"\n",
        "NEO4J_USERNAME=\"neo4j\"\n",
        "NEO4J_PASSWORD=\"RSRaJrIXipkDPsydAUUkYK_CCDHzhi86nIniKNa4OEEm8\""
      ]
    },
    {
      "cell_type": "code",
      "execution_count": 4,
      "metadata": {
        "id": "a8TP6YmCGjPN"
      },
      "outputs": [],
      "source": [
        "import os\n",
        "os.environ [\"NEO4J_URI\"] = NEO4J_URI\n",
        "os.environ[\"NEO4J_USERNAME\"] = NEO4J_USERNAME\n",
        "os.environ[\"NEO4J_PASSWORD\"] = NEO4J_PASSWORD"
      ]
    },
    {
      "cell_type": "code",
      "execution_count": 6,
      "metadata": {
        "id": "zksGhsa8I64W"
      },
      "outputs": [],
      "source": [
        "from langchain_community.graphs import Neo4jGraph\n",
        "\n",
        "graph = Neo4jGraph(\n",
        "    url = NEO4J_URI,\n",
        "    username = NEO4J_USERNAME,\n",
        "    password = NEO4J_PASSWORD\n",
        ")"
      ]
    },
    {
      "cell_type": "code",
      "execution_count": 8,
      "metadata": {
        "id": "pXBMNZF6JaJ2"
      },
      "outputs": [],
      "source": [
        "groq_api_key='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'\n"
      ]
    },
    {
      "cell_type": "code",
      "execution_count": 9,
      "metadata": {
        "colab": {
          "base_uri": "https://localhost:8080/"
        },
        "id": "BWGLm7-zKuQw",
        "outputId": "740a158c-7ed1-4a4c-ab24-084f75ea625a"
      },
      "outputs": [
        {
          "data": {
            "text/plain": [
              "ChatGroq(client=<groq.resources.chat.completions.Completions object at 0x7fdaf3d92bf0>, async_client=<groq.resources.chat.completions.AsyncCompletions object at 0x7fdaf3d91f00>, model_name='Gemma2-9b-It', groq_api_key=SecretStr('**********'))"
            ]
          },
          "execution_count": 9,
          "metadata": {},
          "output_type": "execute_result"
        }
      ],
      "source": [
        "from langchain_groq import ChatGroq\n",
        "\n",
        "llm = ChatGroq(groq_api_key=groq_api_key, model='Gemma2-9b-It')\n",
        "llm"
      ]
    },
    {
      "cell_type": "code",
      "execution_count": 11,
      "metadata": {
        "id": "IusDttnMLT6e"
      },
      "outputs": [],
      "source": [
        "from langchain_core.documents import Document\n",
        "\n",
        "text =\"\"\"\n",
        "Elon Reeve Musk FRS (born June 28, 1971) is a businessman and investor known for his key roles in space company SpaceX and automotive company Tesla, Inc. Other involvements include ownership of X Corp.,\n",
        "the company that operates the social media platform X (formerly known as Twitter), and his role in the founding of The Boring Company, xAI, Neuralink and OpenAI. He is one of the wealthiest people in the world;\n",
        "as of August 2024, Forbes estimates his net worth to be US$241 billion.\n",
        "Musk was born in Pretoria to model Maye and businessman and engineer Errol Musk, and briefly attended the University of Pretoria before immigrating to Canada at age 18, acquiring citizenship through his Canadian-born mother.\n",
        "Two years later, he matriculated at Queen's University at Kingston in Canada. Musk later transferred to the University of Pennsylvania and received bachelor's degrees in economics and physics.\n",
        "He moved to California in 1995 to attend Stanford University, but dropped out after two days and, with his brother Kimbal, co-founded online city guide software company Zip2.\n",
        "The startup was acquired by Compaq for $307 million in 1999. That same year, Musk co-founded X.com, a direct bank. X.com merged with Confinity in 2000 to form PayPal. In October 2002,\n",
        "eBay acquired PayPal for $1.5 billion. Using $100 million of the money he made from the sale of PayPal, Musk founded SpaceX, a spaceflight services company, in 2002.\n",
        "\"\"\"\n",
        "\n",
        "documents = [Document(page_content=text)]\n"
      ]
    },
    {
      "cell_type": "code",
      "execution_count": null,
      "metadata": {
        "id": "BSSnCgOZNMhW"
      },
      "outputs": [],
      "source": [
        "!pip install langchain_experimental"
      ]
    },
    {
      "cell_type": "markdown",
      "metadata": {
        "id": "xeHz1X_QN2jn"
      },
      "source": []
    },
    {
      "cell_type": "code",
      "execution_count": 13,
      "metadata": {
        "id": "6DYlUxxhNePu"
      },
      "outputs": [],
      "source": [
        "from langchain_experimental.graph_transformers import LLMGraphTransformer\n",
        "llm_transformer = LLMGraphTransformer(llm=llm)"
      ]
    },
    {
      "cell_type": "code",
      "execution_count": 14,
      "metadata": {
        "id": "G_aeqUOtN4QH"
      },
      "outputs": [],
      "source": [
        "graph_documents = llm_transformer.convert_to_graph_documents(documents)"
      ]
    },
    {
      "cell_type": "code",
      "execution_count": null,
      "metadata": {
        "id": "vQDBaKgZOJCg"
      },
      "outputs": [],
      "source": [
        "graph_documents[0].relationships"
      ]
    },
    {
      "cell_type": "code",
      "execution_count": 21,
      "metadata": {
        "id": "pxK1t_rhQCRO"
      },
      "outputs": [],
      "source": [
        "movie_query = \"\"\"\n",
        "LOAD CSV WITH HEADERS FROM\n",
        "'https://raw.githubusercontent.com/tomasonjo/blog-datasets/main/movies/movies_small.csv' as row\n",
        "\n",
        "MERGE(m:Movie{id:row.movieId})\n",
        "SET m.released = date(row.released),\n",
        "    m.title = row.title,\n",
        "    m.imdbrating = toFloat(row.imdbrating)\n",
        "FOREACH (director in split(row.director,'|') |\n",
        "    MERGE (p:Person{name:trim(director)})\n",
        "    MERGE (p)-[:DIRECTED]->(m))\n",
        "FOREACH (actor in split(row.actors,'|') |\n",
        "    MERGE (p:Person {name:trim(actor)})\n",
        "    MERGE (p)-[:ACTED_IN]->(m))\n",
        "FOREACH (genre in split(row.genres,'|') |\n",
        "    MERGE (g:Genre {name:trim(genre)})\n",
        "    MERGE (m)-[:IN_GENRE]->(g))\n",
        "\"\"\""
      ]
    },
    {
      "cell_type": "code",
      "execution_count": 22,
      "metadata": {
        "colab": {
          "base_uri": "https://localhost:8080/"
        },
        "id": "GwL2qr4vTO-o",
        "outputId": "9e0b00ed-e617-4351-f4c8-db5f559f7c46"
      },
      "outputs": [
        {
          "data": {
            "text/plain": [
              "[]"
            ]
          },
          "execution_count": 22,
          "metadata": {},
          "output_type": "execute_result"
        }
      ],
      "source": [
        "graph.query(movie_query)"
      ]
    },
    {
      "cell_type": "code",
      "execution_count": null,
      "metadata": {
        "id": "kVQ1SsnNVoq3"
      },
      "outputs": [],
      "source": [
        "from langchain.chains import GraphCypherQAChain\n",
        "chain = GraphCypherQAChain.from_llm(llm=llm, graph=graph, verbose=True)\n",
        "chain"
      ]
    },
    {
      "cell_type": "code",
      "execution_count": 25,
      "metadata": {
        "colab": {
          "base_uri": "https://localhost:8080/"
        },
        "id": "oVKnCrdTWJF_",
        "outputId": "bb71accc-3174-48e4-bac2-6ed3ebaa76be"
      },
      "outputs": [
        {
          "name": "stdout",
          "output_type": "stream",
          "text": [
            "\n",
            "\n",
            "\u001b[1m> Entering new GraphCypherQAChain chain...\u001b[0m\n",
            "Generated Cypher:\n",
            "\u001b[32;1m\u001b[1;3mcypher\n",
            "MATCH (p:Person {name:\"Martin Campbell\"})\n",
            "RETURN p.name\n",
            "\u001b[0m\n",
            "Full Context:\n",
            "\u001b[32;1m\u001b[1;3m[{'p.name': 'Martin Campbell'}]\u001b[0m\n",
            "\n",
            "\u001b[1m> Finished chain.\u001b[0m\n"
          ]
        },
        {
          "data": {
            "text/plain": [
              "{'query': 'Who was the director of the movie GoldenEye',\n",
              " 'result': 'Martin Campbell  \\n'}"
            ]
          },
          "execution_count": 25,
          "metadata": {},
          "output_type": "execute_result"
        }
      ],
      "source": [
        "response = chain.invoke({\"query\":\"Who was the director of the movie GoldenEye\"})\n",
        "response"
      ]
    },
    {
      "cell_type": "code",
      "execution_count": 26,
      "metadata": {
        "colab": {
          "base_uri": "https://localhost:8080/"
        },
        "id": "6e54-vVpW_GC",
        "outputId": "2dbc2bf6-1861-4383-85ba-b9633913446d"
      },
      "outputs": [
        {
          "name": "stdout",
          "output_type": "stream",
          "text": [
            "\n",
            "\n",
            "\u001b[1m> Entering new GraphCypherQAChain chain...\u001b[0m\n",
            "Generated Cypher:\n",
            "\u001b[32;1m\u001b[1;3mMATCH (p:Person)-[:ACTED_IN]->(m:Movie {title: \"GoldenEye\"}) RETURN p.name \n",
            "\u001b[0m\n",
            "Full Context:\n",
            "\u001b[32;1m\u001b[1;3m[{'p.name': 'Pierce Brosnan'}, {'p.name': 'Famke Janssen'}, {'p.name': 'Sean Bean'}, {'p.name': 'Izabella Scorupco'}]\u001b[0m\n",
            "\n",
            "\u001b[1m> Finished chain.\u001b[0m\n"
          ]
        },
        {
          "data": {
            "text/plain": [
              "{'query': 'Who was the actors of the movie GoldenEye',\n",
              " 'result': 'Pierce Brosnan, Famke Janssen, Sean Bean, Izabella Scorupco  were the actors of the movie GoldenEye. \\n'}"
            ]
          },
          "execution_count": 26,
          "metadata": {},
          "output_type": "execute_result"
        }
      ],
      "source": [
        "response = chain.invoke({\"query\":\"Who was the actors of the movie GoldenEye\"})\n",
        "response"
      ]
    }
  ],
  "metadata": {
    "accelerator": "GPU",
    "colab": {
      "gpuType": "T4",
      "provenance": []
    },
    "kernelspec": {
      "display_name": "Python 3",
      "name": "python3"
    },
    "language_info": {
      "name": "python"
    }
  },
  "nbformat": 4,
  "nbformat_minor": 0
}
